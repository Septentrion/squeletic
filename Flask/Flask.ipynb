{
 "cells": [
  {
   "cell_type": "markdown",
   "id": "d42a1fef",
   "metadata": {},
   "source": [
    "# Echaffaudage d'une application web en Python\n",
    "\n",
    "## Introduction\n",
    "\n",
    "Pour créer une application web, il faut profiter d’un serveur HTTP. \n",
    "Pour cette raison, PHP s’est très tôt imposé comme le langage de référence du web, \n",
    "car il est naturellement coupléavec Apache ou Nginx.\n",
    "\n",
    "Pour les autres langages, c’est différent.\n",
    "Il faut passer par l’interface CGI (Common Gateway Interface) du serveur, ce qui n’est pas toujours pratique.\n",
    "La seconde solution consiste à se servir des ressources asynchrones des langages eux-mêmes (ce qui est plus compliqué en PHP, mais est devenu faisable).\n",
    "C’est ce pourquoi NodeJS est conçu.\n",
    "Pour **Python**, il serait fastidieux de faire cela manuellement avec le module **asyncio**.\n",
    "On aura donc recours à des bibliothèques tierces qui serviront de « _framework_ » (plate-forme) facilitant la mise en œuvre.\n",
    "\n",
    "Globalement, il existe deux outils majeurs en Python :\n",
    "\n",
    "1. **Django**, qui est un framwork lourd, destiné à des applications professionnelles, équivalent à **Symfony** en PHP ; les deux s'inspirent du monde **Java**.\n",
    "2. **Flask**, qui ets un framework léger, très simple à mettre en œuvre, mais qui permet de créer des applications complètes ; c'est lui ue nous utiliserons."
   ]
  },
  {
   "cell_type": "markdown",
   "id": "6a276e1d",
   "metadata": {},
   "source": [
    "## Installation\n",
    "\n",
    "Pour pouvoir créer notre application, nouaurons également besoin de :\n",
    "\n",
    "- **Jinja**, qui est un **moteur de rendu** HTML, qui se chargera de la mise en forme des pages à afficher ;\n",
    "- **SQLAlchemy**, qui exécutera les requêtes sur la base de données\n",
    "- **Werkzeug**, qui rendra l'application plus puissante en utilisant le protocole WSGI\n",
    "\n",
    "Pour tout cela :"
   ]
  },
  {
   "cell_type": "code",
   "execution_count": null,
   "id": "eedae3f3",
   "metadata": {},
   "outputs": [],
   "source": [
    "%%bash\n",
    "\n",
    "pip install flask\n",
    "pip install jinja2\n",
    "pip install sqlalchemy"
   ]
  },
  {
   "cell_type": "markdown",
   "id": "44c423a6",
   "metadata": {},
   "source": [
    "## Flask\n",
    "\n",
    "### Lancement du serveur HTTP\n",
    "\n",
    "Pour lancer le serveur, il nous suffit de créer un script Python comme le suivant :"
   ]
  },
  {
   "cell_type": "code",
   "execution_count": null,
   "id": "e6708a47",
   "metadata": {},
   "outputs": [],
   "source": [
    "# import de l'objet Flask, qui fait office de serveur\n",
    "from flask import Flask\n",
    "\n",
    "# initialistion du serveur\n",
    "# __name__ est le nom  du fichier\n",
    "app = Flask(__name__)\n",
    "\n",
    "# définition d'une route racine grâce à un décorateur\n",
    "# la route est associé à un contrôleur, dont le rôle sera de traiter la requête de l'utilisateur\n",
    "@app.route('/')\n",
    "def home():\n",
    "    return \"Ceci est la page d'accueil\""
   ]
  },
  {
   "cell_type": "markdown",
   "id": "2a9a9b95",
   "metadata": {},
   "source": [
    "Une fois le script sauvegardé, nous pouvons lancer l'pplication (qui contient son propre serveur HTTP) avec la commande :"
   ]
  },
  {
   "cell_type": "code",
   "execution_count": null,
   "id": "1b046f51",
   "metadata": {},
   "outputs": [],
   "source": [
    "flask run"
   ]
  },
  {
   "cell_type": "markdown",
   "id": "0db336b7",
   "metadata": {},
   "source": [
    "Cette commande suffit si vous avez eu la bonne idée de nommer votre fichier `app.py`. Sinon, la syntaxe sera un peu plus verbeuse :"
   ]
  },
  {
   "cell_type": "code",
   "execution_count": null,
   "id": "b13cb6e8",
   "metadata": {},
   "outputs": [],
   "source": [
    "# Si le fichier s'appelle `index.py`\n",
    "flask run --app index.py"
   ]
  },
  {
   "cell_type": "markdown",
   "id": "424dfa52",
   "metadata": {},
   "source": [
    "Par défaut, le serveur écute sur le port 5000. Vous pouvez donc aller dans votre navigateur et interroger l’URL : `localhost:5000` pour afficher le message."
   ]
  },
  {
   "cell_type": "markdown",
   "id": "af4a5630",
   "metadata": {},
   "source": [
    "### Familles de routes\n",
    "\n",
    "Nous pouvons maintenant ajouter autant de routes que nous voulons.\n",
    "Toutefois, nous avons besoin d'éléments variables dans les URL.\n",
    "Admettons que nouvousions afficher les informations d'un produit, il faudra passer son `id` au serveur.\n",
    "Il faut donc une syntaxe “générique” pour une famille de routes, du type :\n",
    "```\n",
    "/product/15\n",
    "/product/124\n",
    "... c'est-à-dire :\n",
    "/product/{id}\n",
    "```\n",
    "Dans Flask, les parties variables sont entourées par des chevrons :"
   ]
  },
  {
   "cell_type": "code",
   "execution_count": null,
   "id": "3728a3dd",
   "metadata": {},
   "outputs": [],
   "source": [
    "# Une variable est introduite dans la route\n",
    "@app.route('/product/<id>')\n",
    "# Cette variable est également introduite comme paramètre du contrôleur\n",
    "def home(id):\n",
    "    # Pour simplifier l'insertion de variables dans les chaînes de caractères,\n",
    "    # on utilise les “f-strings”\n",
    "    return f\"Vous avez demandé le produit {id}\""
   ]
  },
  {
   "cell_type": "markdown",
   "id": "653bd6b0",
   "metadata": {},
   "source": [
    "### Gabarit simples\n",
    "\n",
    "Maintenant nous aimerions pouvoir afficher de vraies pages HTML et non de simples messages.\n",
    "Pour cela, nous pouvons utiliser les ressources du moteur de rendu **Jinja2** qui est intégré dans Flask avec la fonction `render_template`.\n",
    "\n",
    "Pour cela, il suffit d'un fichier HTML, qui sera stocké dans un sous-dossier `templates`.\n",
    "Admettons que nous vi-oulions afficher une page d'accueil qui s'appelle `home.html` :"
   ]
  },
  {
   "cell_type": "code",
   "execution_count": null,
   "id": "051b508d",
   "metadata": {},
   "outputs": [],
   "source": [
    "from flask import render_template\n",
    "\n",
    "@app.route('/')\n",
    "def home():\n",
    "    return render_template('home.html')"
   ]
  },
  {
   "cell_type": "markdown",
   "id": "54593620",
   "metadata": {},
   "source": [
    "Naturellement, des pages statiques ne sont pas très utiles dans une application.\n",
    "Nous aimerions pouvoir passer des données au gabarit.\n",
    "Dans ce cas, il suffit de les ajouter comme arguments de la fontion `render_template`."
   ]
  },
  {
   "cell_type": "code",
   "execution_count": null,
   "id": "31b8e3e9",
   "metadata": {},
   "outputs": [],
   "source": [
    "products = {\n",
    "    'iphone': {\n",
    "        'name': 'iPhone 5S',\n",
    "        'category': 'Phones',\n",
    "        'price': 699,\n",
    "    },\n",
    "    'galaxy': {\n",
    "        'name': 'Samsung Galaxy 5',\n",
    "        'category': 'Phones',\n",
    "        'price': 649,\n",
    "    },\n",
    "    'ipad-air': {\n",
    "        'name': 'iPad Air',\n",
    "        'category': 'Tablets',\n",
    "        'price': 649,\n",
    "    },\n",
    "    'ipad-mini': {\n",
    "        'name': 'iPad Mini',\n",
    "        'category': 'Tablets',\n",
    "        'price': 549\n",
    "    }\n",
    "}\n",
    "\n",
    "@app.route('/product/<id>')\n",
    "def home(id):\n",
    "    return render_template('product.html', id=id, product=products[id])"
   ]
  },
  {
   "cell_type": "markdown",
   "id": "9897e1e3",
   "metadata": {},
   "source": [
    "\n",
    "Dans le fichier HTML correpondant, les éléments variables seront entourés de doubles accolades : `{{ id }}`.\n",
    "En réalité, les doubles accolades peuvent contenir du code Python arbitraire, que Jinja se chargera d'exécuter.\n",
    "\n",
    "```\n",
    "<div class=\"top-pad\">\n",
    "    <h1>{{ product['name'] }}\n",
    "      <small>{{ product['category'] }}</small>\n",
    "    </h1>\n",
    "    <h3>{{ product['price'] }} euros</h3>\n",
    "</div>\n",
    "```\n",
    "\n",
    "**Jinja** offre également deux fonctionnalités très importantes :\n",
    "- une notion d'héritage, qui permet de mutualiser certaines parties du code HTML dans des blocs\n",
    "- des sructure de contrôles pour les conditionnelles et les boucles\n",
    "\n",
    "**Flask**, quant à lui, se chargera de traiter les erreurs (comme les routes invalides, par exemple)."
   ]
  },
  {
   "cell_type": "markdown",
   "id": "e208525a",
   "metadata": {},
   "source": [
    "#### Héritage de gabarit\n",
    "\n",
    "Si nous voulons mutualiser une artie du code HTML, pour créer une mise en page générique, par exemple, nous devons juste écrire un fichier contenant des blocs, qui sont des instructions Jinja. Ces dernières sont indiquées par des accolade-pourcent : `{% instruction %}`.\n",
    "```\n",
    "<html>\n",
    "    <head>\n",
    "        <title>{{ title }}</title>\n",
    "    </head>\n",
    "    <body>\n",
    "        {% block contenu %}{% endblock %}\n",
    "    </body>\n",
    "</html>\n",
    "```\n",
    "Ceci est notre gabarit “parent”. Appelons-le `layout.html`.\n",
    "On remarque que le bloc `contenu` est vide. C'est juste un déclaration qui sera remplie par la suite.\n",
    "\n",
    "Pour qu'une page adopte le gabarit, il faut le lui indiquer avec l'instruction `{% extends %}`.\n",
    "Il ne restera alors quà définir le contenu des blocs. Par exemple, pour reprendre la page produit :\n",
    "\n",
    "```\n",
    "{% extends 'layout.html' %}\n",
    "\n",
    "{% block contenu %}\n",
    "<div class=\"top-pad\">\n",
    "    <h1>{{ product['name'] }}\n",
    "      <small>{{ product['category'] }}</small>\n",
    "    </h1>\n",
    "    <h3>{{ product['price'] }} euros</h3>\n",
    "</div>\n",
    "{% endblock %}\n",
    "```"
   ]
  },
  {
   "cell_type": "markdown",
   "id": "da924b9c",
   "metadata": {},
   "source": [
    "#### Structures de contrôle\n",
    "\n",
    "##### Boucles\n",
    "\n",
    "Si nous voulons afficher la liste des produits (sur le modèle de l'exemple plus haut), nous pourrions écrire :\n",
    "```\n",
    "{% extends 'layout.html' %}\n",
    "\n",
    "{% block contenu %}\n",
    "<div>\n",
    "    {% for id, product in products.items() %}\n",
    "     <div class=\"product\">\n",
    "        <h2>\n",
    "          <a href=\"{{ app.url_for('product', key=id) }}\">{{product['name']}}</a>\n",
    "          <small>{{ product['price']}} euros</small>\n",
    "        </h2>\n",
    "     </div>\n",
    "    {% endfor %}\n",
    "</div>\n",
    "{% endblock %}\n",
    "```\n",
    "\n",
    "Notez au passage l'emploi de la fonc `url_for`, qui permet de générer l'URL correpondant à une route :\n",
    "- le premier argument est le nom du contrôleur associé à la route\n",
    "- les arguments suivant sont les variables de la route\n",
    "\n",
    "Dans cet exemple, nous pourrions imaginer une route :\n",
    "\n",
    "@app.route('p\n",
    "\n",
    "##### Conditionnelles\n",
    "\n"
   ]
  }
 ],
 "metadata": {
  "kernelspec": {
   "display_name": "Python 3 (ipykernel)",
   "language": "python",
   "name": "python3"
  },
  "language_info": {
   "codemirror_mode": {
    "name": "ipython",
    "version": 3
   },
   "file_extension": ".py",
   "mimetype": "text/x-python",
   "name": "python",
   "nbconvert_exporter": "python",
   "pygments_lexer": "ipython3",
   "version": "3.8.8"
  }
 },
 "nbformat": 4,
 "nbformat_minor": 5
}
