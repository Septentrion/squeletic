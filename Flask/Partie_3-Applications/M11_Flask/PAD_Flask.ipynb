{
 "cells": [
  {
   "cell_type": "markdown",
   "id": "7be1a78e",
   "metadata": {},
   "source": [
    "# Introduction à Flask\n",
    "\n",
    "\n",
    "## Introduction\n",
    "\n",
    "**Flask** est, avec Django, l'une des plates-formes (ou « framework ») web les plus populaires de l'écosystème Python. Elle a été conçue pour être très légère.\n",
    "\n",
    "### Que signifie \"micro\" ?\n",
    "\n",
    "Le \"micro\" dans microframework signifie que Flask vise à garder le noyau simple mais extensible. Flask ne prendra pas beaucoup de décisions pour vous, comme le choix de la base de données à utiliser. Les décisions qu'il prend, comme le moteur de templating à utiliser, sont faciles à modifier. Tout le reste dépend de vous, de sorte que Flask puisse être tout ce dont vous avez besoin et rien que vous n'ayez besoin.\n",
    "\n",
    "Par défaut, Flask n'inclut pas de couche d'abstraction de base de données, de validation de formulaire ou quoi que ce soit d'autre pour lequel il existe déjà des bibliothèques différentes qui peuvent s'en charger. Au lieu de cela, Flask supporte des extensions pour ajouter de telles fonctionnalités à votre application comme si elles étaient implémentées dans Flask lui-même.\n",
    "\n",
    "### Configuration et conventions\n",
    "\n",
    "Flask possède de nombreuses valeurs de configuration, avec des valeurs par défaut raisonnables, et quelques conventions pour commencer. Par convention, les fichiers templates et statiques sont stockés dans des sous-répertoires de l'arbre source Python de l'application, avec les noms `templates` et `static` respectivement. Bien que cela puisse être modifié, vous n'avez généralement pas besoin de le faire, surtout au début.\n",
    "\n",
    "### Évolution avec Flask\n",
    "\n",
    "Une fois que vous avez mis en place Flask, vous trouverez une variété d'extensions disponibles dans la communauté pour intégrer votre projet à la production.\n",
    "\n",
    "À mesure que votre base de code se développe, vous êtes libre de prendre les décisions de conception appropriées à votre projet. Flask continuera à fournir une couche de colle très simple à ce que Python a de mieux à offrir. Vous pouvez mettre en œuvre des modèles avancés dans SQLAlchemy ou un autre outil de base de données, introduire la persistance des données non relationnelles, le cas échéant, et tirer parti des outils agnostiques construits pour WSGI, l'interface web Python.\n",
    "\n",
    "Flask comprend de nombreux hooks permettant de personnaliser son comportement. Si vous avez besoin de plus de personnalisation, la classe Flask est conçue pour être sous-classée. Si cela vous intéresse, consultez le chapitre \" Becoming Big \". Si vous êtes curieux de connaître les principes de conception de Flask, rendez-vous à la section sur les décisions de conception dans Flask.\n",
    "\n",
    "## Premiers pas\n",
    "\n",
    "### Installation\n",
    "\n",
    "La plate-forme s'installe très facilement avec pip, comme d'habitude en Python :\n",
    "\n",
    "```bash\n",
    "pip install flask\n",
    "```\n",
    "\n",
    "Le cas échéant, vous pouvez bien sûr créer un environnement virtuel pour encapsuler votre application.\n",
    "\n",
    "> **Rappel : Création d'environnement virtuel**\n",
    ">\n",
    "> Un environnement virtuel est un espace défini pour une application Python, isolé du reste du système, et qui contient ses propres modules, et éventuellement sa propre version de Python.\n",
    "> Pour créer un environnement virtuel :\n",
    ">```bash\n",
    "> python -m venv <nom_de_dossier>\n",
    ">```\n",
    "> L'environnement virtuel doitensuite être activé pour entrer en service :\n",
    ">```bash\n",
    "> source <nom_de_dossier>/bin/activate\n",
    ">```\n",
    "> Vous pouvez enfin le désactiver en fin de session :\n",
    ">```bash\n",
    "> deactivate\n",
    ">```\n",
    "\n",
    "Flask installe elle-même quelques bibliothèques :\n",
    "\n",
    "- **Werkzeug**, pour WSGI, l'interface entre Python et les serveurs web\n",
    "- **Jinja**, un moteur de templates HTML très semblable à Twig\n",
    "- **MarkupSafe**, une extension de Jinja destinée à éviter les attaques par injection en protégeant les chaînes de caractères\n",
    "- **ItsDangerous**, un module pour signer les données (par exemple les cookies de session de Flask).\n",
    "- **Click**, un outil pour la gestion des applications Flask en ligne de commande.\n",
    "\n",
    "Une fois installée, Flask n'est pas immédiatement opérationnel. Nous allons devoir ajouter quelques fichiers pourra afficher une page. D'ailleurs, si vous avez installé Flask au niveau « global », vous pouvez créer un dossier n'importe où dans votre système de fichiers et commencer à écrire le code.\n",
    "\n",
    "### Publication sur le web\n",
    "\n",
    "Contrairement à PHP, qui est une exception, Python n'est pas directement reconnu par les serveurs HTTP, en particulier par Apache. Il existe globalement trois solutions possibles :\n",
    "\n",
    "1. Flask possède son propre démon HTTP, il suffira de le lancer, comme nous le verrons et l'application sera directement disponible. C'est une solution qui offre l'avantge de la simplicité, mais qui est très peu efficace. Néanmoins, en phase de développement ou d'expérimentation, elle peut se concevoir.\n",
    "2. Si vous utilisez le serveur HTTP **Nginx**, vous pouvez installez **gunicorn**, qui est plus puissant que le serveur interne de Flask et le lier ensuite à Nginx qui assurera la publication sur le web.\n",
    "3. Si vous utilisez **Apache**, la procédure est plus complexe ; vous devrez installer le module `mod_wsgi` de Python ainsi que l'extension équivalente pour Apache. Cela demandera un pett peu pllus de travail.\n",
    "\n",
    "Par la suite, nous admetrons tout simplement qu'une de ces solutions sont actives.\n",
    "\n",
    "### Structure de l'application\n",
    "\n",
    "Au départ, le dossier de votre application est vide, à moins que vous n'ayez opté pour un environnement virtuel.\n",
    "\n",
    "L'application Flask minimale ne comprte qu'un seul fichier, que vous baptisez du nom que vous voulez. Appelon-le `server.py`."
   ]
  },
  {
   "cell_type": "code",
   "execution_count": null,
   "id": "e385afd2",
   "metadata": {},
   "outputs": [],
   "source": [
    "# server.py\n",
    "\n",
    "# a minima import l'objet Flask, qui est le nnoyau de l'application\n",
    "from flask import Flask\n",
    "\n",
    "# Créer l'application (rappel : `__name__` contient le nom du fichier dans lequel elle est appelée)\n",
    "app = Flask(__name__)\n",
    "\n",
    "# Lancement de l'application\n",
    "# Le mode 'debug' permet de redémarrer le serveur automatiquement lorsque le code est modifié \n",
    "# et d'afficher une trace dans le navigateur en cas d'erreur\n",
    "# Vous pouvez spécifier le port sur lequel Flask écoutera les requêtes, 5000 est le port par défaut\n",
    "if __name__ == '__main__' :\n",
    "    app.run(debug=True, port=5000)"
   ]
  },
  {
   "cell_type": "markdown",
   "id": "d9b468fc",
   "metadata": {},
   "source": [
    "Pour mettre en route le serveur avec le démon de Flask, il ssuffit d'exécuter la commande shell :\n",
    "```bash\n",
    "FLASK_APP=server.py flask run\n",
    "```\n",
    "> **N.B.** Notez que si votre fichier s'appelle `app.py` ou `wsgi.py`, la variable système est inutile.\n",
    "\n",
    "Si vous exécutez directement le script, vous allez certainement constater qu' il ne se passe rien ! En effet, si le moteur est actif, il manque la chose principale : la description de l'API de l'application, c'est-à-dire l'ensemble des routes accessibles par les utilisateurs.\n",
    "\n",
    "Chaque route comprend deux faces:\n",
    "- un décorateur qui définit la structure de l'URL\n",
    "- une fonction qui traite la requête, appelée « contrôleur » (ou quelquefois « adapteur »)"
   ]
  },
  {
   "cell_type": "code",
   "execution_count": null,
   "id": "7a5f7d09",
   "metadata": {},
   "outputs": [],
   "source": [
    "# Route minimale pour la page d'accueil\n",
    "# Le décorateur `app.route` est défini dans l'objet `app` qui représente l'application elle-même\n",
    "\n",
    "@app.route('/')\n",
    "def home():\n",
    "    return \"<h1>Accueil<h1><p>Première page</p>\"\n",
    "\n",
    "@app.route('/about-us')\n",
    "def about():\n",
    "    return \"<h1>Voilà !<h1><p>C'est moi qui l'ai fait</p>\"\n",
    "    "
   ]
  },
  {
   "cell_type": "markdown",
   "id": "9e237899",
   "metadata": {},
   "source": [
    "Vous pouvez définir autant de routes que vous le souhaitez.\n",
    "\n",
    "Normalement, vous devriez pouvoir maintnant afficher quelque chose dans le navigateur à l'adresse `http://localhost:5000/about_us`\n",
    "\n",
    "#### Autre dossiers minimaux\n",
    "\n",
    "Comme nous venons de le voir l'application peut se résumer à un script. Néanmoins, dans un cas réel, nous aurons beson d'au moins deux dossiers, à la racine de l'application :\n",
    "- `static`, qui contiendra toutes les ressources web\n",
    "- `templates`, qui contiendra les gabarits d'affichage des pages, écrites en HTMl ou avec Jinja.\n",
    "\n",
    "Par exemple, si vous voulez afficher une page statique de présentation de l'application, vous pourrez écrire :"
   ]
  },
  {
   "cell_type": "code",
   "execution_count": null,
   "id": "cecfbdb7",
   "metadata": {},
   "outputs": [],
   "source": [
    "# import de la fonction `render_template`\n",
    "from flask import render_template\n",
    "\n",
    "@app.route('/about-us')\n",
    "def about():\n",
    "    # Le gabarit `about_us.html` est par défaut dans le dossier `templates`\n",
    "    return render_template('about_us.html')"
   ]
  },
  {
   "cell_type": "markdown",
   "id": "03946af6",
   "metadata": {},
   "source": [
    "### Routes\n",
    "\n",
    "En dehors de leur déclaration minimale, les routes peuvent accepter un  certain nombre d'options\n",
    "\n",
    "#### Variables de routes\n",
    "\n",
    "Une route définit en faut un _schéma_ d'URL, qui peut comprendre des variables. Par exemple :"
   ]
  },
  {
   "cell_type": "code",
   "execution_count": null,
   "id": "eb565b48",
   "metadata": {},
   "outputs": [],
   "source": [
    "# La variable `id` est signalée par les chevrons\n",
    "@app.route('/model/<id>')\n",
    "# La variable est également introduite comme paramètre de la fonction\n",
    "def about(id):\n",
    "    # Elle peut ensuite être passée au gabarit pour être affichée\n",
    "    return render_template('model.html', id=id)"
   ]
  },
  {
   "cell_type": "markdown",
   "id": "b0c3193a",
   "metadata": {},
   "source": [
    "#### Méthodes HTTP\n",
    "\n",
    "Lors de la définition des API, la bonne pratique est d'utiliser complètement les méthodes HTTP, ce qui permet en particulier de définir moins de schémas d'URL. On peut donc tout à fait écrire :"
   ]
  },
  {
   "cell_type": "code",
   "execution_count": null,
   "id": "9ccf25f2",
   "metadata": {},
   "outputs": [],
   "source": [
    "# Une route pour afficher la page d'un objet\n",
    "@app.route('/model/<id>', methods=['GET'])\n",
    "def about(id):\n",
    "    return render_template('model.html', id=id)\n",
    "\n",
    "# Une autre route avec le smême schéma pour modifier les données de cet objet\n",
    "@app.route('/model/<id>', methods=['PATCH'])\n",
    "def about(id):\n",
    "    # `update_model` est une fonction fictive :o)\n",
    "    update_model(id)\n",
    "    return render_template('model.html', id=id)"
   ]
  },
  {
   "cell_type": "markdown",
   "id": "3cdcac07",
   "metadata": {},
   "source": [
    "### Requêtes\n",
    "\n",
    "Les paramètres de la requête HTTP  sont disponibles sou la forme de la variable globale `request`. Exemple :"
   ]
  },
  {
   "cell_type": "code",
   "execution_count": null,
   "id": "07ec1c99",
   "metadata": {},
   "outputs": [],
   "source": [
    "# Existence de valeurs dan la chaîne de requête de l'URL = `/model/25?version=1:50\n",
    "\n",
    "@app.route('/model/<id>', methods=['GET'])\n",
    "def about(id):\n",
    "    # la propriété `args` de l'objet `request` fournit la valeur demandée\n",
    "    version = request.args.get('version', '1.10')\n",
    "    return render_template('model.html', id=id, version=version)\n"
   ]
  },
  {
   "cell_type": "markdown",
   "id": "61468a2e",
   "metadata": {},
   "source": [
    "Tous les éléments de la requêtes (cookies, formulaires (body), fichiers, entêtes HTTP, etc.) sont naturellement disponibles de la même facçon.\n",
    "\n",
    "### Réponses\n",
    "\n",
    "Flask fournit par défaut des réponses au format HTML, c'est le rôle de la fonctin `render_template`.\n",
    "A noter que le code de statut de la réponse peut être aisément ajouté :"
   ]
  },
  {
   "cell_type": "code",
   "execution_count": null,
   "id": "21db5d0f",
   "metadata": {},
   "outputs": [],
   "source": [
    "@app.route('/model/<id>', methods=['GET'])\n",
    "def about(id):\n",
    "    version = request.args.get('version', '1.10')\n",
    "    # Le code 200 est précisé (de manière redondante, dans ce cas)\n",
    "    return render_template('model.html', id=id, version=version), 200\n"
   ]
  },
  {
   "cell_type": "markdown",
   "id": "9fb0aecb",
   "metadata": {},
   "source": [
    "Il existe d'autres méthodes pour définir les réponses.\n",
    "\n",
    "#### make_response\n",
    "\n",
    "`make_response` se contente de construire l'objet. L'avantage de cette solution est que vous pouvez ajouter par la suite tous les entêtes HTTP que vous voulez."
   ]
  },
  {
   "cell_type": "code",
   "execution_count": null,
   "id": "c49195c5",
   "metadata": {},
   "outputs": [],
   "source": [
    "@app.route('/model/<id>', methods=['GET'])\n",
    "def about(id):\n",
    "    version = request.args.get('version', '1.10')\n",
    "    response = make_response('model.html', id=id, version=version), 200\n",
    "    # Ajout d'entêtes\n",
    "    resp.headers['Last-Modified'] = 'Sat, 20 Nov 2021 16:28:55 GMT'\n",
    "    resp.headers['Etag'] = '2c78a220b1e9b81779410856d2cb59cb44f928b9'\n",
    "    # Envoi de la réponse\n",
    "    return response\n"
   ]
  },
  {
   "cell_type": "markdown",
   "id": "b6c71baa",
   "metadata": {},
   "source": [
    "#### json\n",
    "\n",
    "Dans le cas d'un serveur d'API, vous pourrez facilement envoyer des réponses au format JSON :"
   ]
  },
  {
   "cell_type": "code",
   "execution_count": null,
   "id": "427b4478",
   "metadata": {},
   "outputs": [],
   "source": [
    "# Directement\n",
    "@app.route(\"/me\")\n",
    "def me_api():\n",
    "    user = get_current_user()\n",
    "    return {\n",
    "        \"username\": user.username,\n",
    "        \"theme\": user.theme,\n",
    "        \"image\": url_for(\"user_image\", filename=user.image),\n",
    "    }\n",
    "\n",
    "# En linéarisant les données\n",
    "from flask import jsonify\n",
    "\n",
    "@app.route(\"/users\")\n",
    "def users_api():\n",
    "    users = get_all_users()\n",
    "    return jsonify([user.to_json() for user in users])\n"
   ]
  },
  {
   "cell_type": "markdown",
   "id": "b25bacde",
   "metadata": {},
   "source": [
    "En pratique, la linéarisation se fera plus souvent via des bibliothèques comme `pickle` ou `marshmallow`.\n",
    "\n",
    "### Services\n",
    "\n",
    "Enfin, nous avons surtout vu des exemples très simples de traitement des requêtes, mais les contrôleurs peuvent contenir tout code arbitraire qui trnasforme les données d'entrrée pour fournir la réponse.\n",
    "\n",
    "La bonne pratique est de déporter tous ces traitements dans de modules externes,qu'on appellera services. PAr exemple ;"
   ]
  },
  {
   "cell_type": "code",
   "execution_count": null,
   "id": "04cb5efa",
   "metadata": {},
   "outputs": [],
   "source": [
    "# En linéarisant les données\n",
    "from flask import jsonify\n",
    "import user\n",
    "\n",
    "@app.route(\"/users\")\n",
    "def users_api():\n",
    "    # une fonction `all` d'un module `user` est préférable à la fonction globale `get_all_users`\n",
    "    users = user.all()\n",
    "    return jsonify([user.to_json() for user in users])\n"
   ]
  }
 ],
 "metadata": {
  "kernelspec": {
   "display_name": "Python 3 (ipykernel)",
   "language": "python",
   "name": "python3"
  },
  "language_info": {
   "codemirror_mode": {
    "name": "ipython",
    "version": 3
   },
   "file_extension": ".py",
   "mimetype": "text/x-python",
   "name": "python",
   "nbconvert_exporter": "python",
   "pygments_lexer": "ipython3",
   "version": "3.8.8"
  }
 },
 "nbformat": 4,
 "nbformat_minor": 5
}
