{
 "cells": [
  {
   "cell_type": "markdown",
   "id": "2f89a965",
   "metadata": {},
   "source": [
    "# SQLAlchemy pour Flask\n",
    "\n",
    "\n",
    "## Introduction\n",
    "\n",
    "Flask peut être combinée avec différentes bases de données, relationnelles, documents ou graphes. Nous allons nous concentrer ici sur le modèle relationnelle comme suite au module `SQLAlchemy`.\n",
    "\n",
    "## Mise en œuvre\n",
    "\n",
    "La mise en œuvre de la base n'est pas très différente de celle vue dans le module sur `SQLAlchemy`.\n",
    "\n",
    "### Création du modèle\n",
    "\n",
    "Vous devez créer le modèle du domaine de votre application, soit dans un seul fichier (par exemple, `models.py`), soitce qui est préférable en restreignant une classe par fichier."
   ]
  },
  {
   "cell_type": "code",
   "execution_count": null,
   "id": "4e89f6f7",
   "metadata": {},
   "outputs": [],
   "source": [
    "# customer_model.py\n",
    "import employee_model\n",
    "from database import Base\n",
    "\n",
    "# Une entité client\n",
    "class Customer(Base):\n",
    "    __tablename__ = \"customers\"\n",
    "    customerNumber = Column(Integer(11), nullable=False, primary_key=True)\n",
    "    customerName = Column(String(50), nullable=False, unique=True)\n",
    "    contactLastName = Column(String(50), default=NULL)\n",
    "    contactFirstName = Column(String(50), default=NULL)\n",
    "    phone = Column(String(50), default=NULL)\n",
    "    addressLine1 = Column(String(50), default=NULL)\n",
    "    addressLine2 = Column(String(50), default=NULL)\n",
    "    city = Column(String(50), default=NULL)\n",
    "    state = Column(String(50), unique=True)\n",
    "    postalCode = Column(String(15), default=NULL)\n",
    "    country = Column(String(50), default=NULL)\n",
    "    salesRepEmployeeNumber = Column(String(50), ForeignKey='employees.employeeNumber')\n",
    "    creditLimit = Column(Float, default=NULL)\n",
    "    officeNumber = db.Column(db.Integer, db.ForeignKey('office.officeNumber'), nullable=False)\n",
    "    office = db.relationship('office', backref=db.backref('employees', lazy=True))\n",
    "\n",
    "    salesRep = relationship(\"Employee\", )\n"
   ]
  },
  {
   "cell_type": "markdown",
   "id": "a31f3af1",
   "metadata": {},
   "source": [
    "### Configuration de la connexion"
   ]
  },
  {
   "cell_type": "code",
   "execution_count": null,
   "id": "1dc33a52",
   "metadata": {},
   "outputs": [],
   "source": [
    "# database.py\n",
    "\n",
    "from sqlalchemy import create_engine\n",
    "from sqlalchemy.orm import sessionmaker\n",
    "from sqlalchemy.ext.declarative import declarative_base\n",
    "\n",
    "# Configurer le DSN\n",
    "dsn ='...'\n",
    "\n",
    "engine = create_engine(dsn)\n",
    "session = sessionmaker(bind=engine)\n",
    "Base = declarative_base()"
   ]
  },
  {
   "cell_type": "markdown",
   "id": "c8d5fb5a",
   "metadata": {},
   "source": [
    "Vous pouvez ensuite utiliser les requêtesde l'ORM exactement comme dans n'importe quel programme Python"
   ]
  },
  {
   "cell_type": "code",
   "execution_count": null,
   "id": "b2eec47c",
   "metadata": {},
   "outputs": [],
   "source": [
    "# app.py\n",
    "import database\n",
    "\n",
    "# ... Code complémentaire ...\n",
    "\n",
    "@app.route('/customer/<id>')\n",
    "def customer(id):\n",
    "    customer = database.session.query(Customer).where(Customer.customerNumber == id).one()\n",
    "    return render-template('customer.html', customer=customer)\n"
   ]
  },
  {
   "cell_type": "markdown",
   "id": "309d8ab1",
   "metadata": {},
   "source": [
    "### `flask_sqlalchemy`\n",
    "\n",
    "Si vous voulez connecter Flask avec une base de données relationnelle quelconque, il faut installer une version modifiée de `sqlalchemy` :\n",
    "```bash\n",
    "pip install flask_sqlalchemy\n",
    "```\n",
    "\n",
    "### Configuration\n",
    "\n",
    "Dans le cas courant d'une application Flask, tout ce que vous avez à faire est de créer votre application Flask, de charger la configuration de votre choix, puis de créer l'objet SQLAlchemy en lui passant l'application.\n",
    "\n",
    "Une fois créé, cet objet contient toutes les fonctions et aides de `sqlalchemy` et `sqlalchemy.orm`. De plus, il fournit une classe appelée Model qui est une base déclarative pouvant être utilisée pour déclarer les diverses classe du modèle.\n",
    "\n",
    "Bien que n'étant pas foncdamentalement différent de `SQLAlchemy`, ce module offre du « sucre syntaxique » qui simplifie le code de l'application. Ainsi, le fichier de configuration de la basede données s'écrit maintenant :"
   ]
  },
  {
   "cell_type": "code",
   "execution_count": null,
   "id": "a74876dd",
   "metadata": {},
   "outputs": [],
   "source": [
    "\n",
    "from flask import Flask\n",
    "from flask_sqlalchemy import SQLAlchemy\n",
    "\n",
    "app = Flask(__name__)\n",
    "app.config['SQLALCHEMY_DATABASE_URI'] = 'sqlite:////tmp/test.db'\n",
    "db = SQLAlchemy(app)"
   ]
  },
  {
   "cell_type": "markdown",
   "id": "c39f083a",
   "metadata": {},
   "source": [
    "Une fois l'objet `db` créé, on peut l'utiliser indifféremment dans toutes les situations.\n",
    "\n",
    "1. Création d'une entité"
   ]
  },
  {
   "cell_type": "code",
   "execution_count": null,
   "id": "5d1220af",
   "metadata": {},
   "outputs": [],
   "source": [
    "from database import db\n",
    "\n",
    "class Office(db.Model):\n",
    "    # Tous les types sont désormais reliés directement à `db`\n",
    "    officeNumber = db.Column(db.Integer, primary_key=True)\n",
    "    dwellers = db.relationship('Employee', backref=db.backref('office', lazy=True))\n"
   ]
  },
  {
   "cell_type": "markdown",
   "id": "4d6b6fe1",
   "metadata": {},
   "source": [
    "2. Dans les requêtes"
   ]
  },
  {
   "cell_type": "code",
   "execution_count": null,
   "id": "94477bda",
   "metadata": {},
   "outputs": [],
   "source": [
    "office = Office()\n",
    "\n",
    "# Ajout d'un bureau dans la base\n",
    "db.session.add(office)\n",
    "db.session.commit()\n",
    "\n",
    "# Recherche\n",
    "db.session.query(Office).all()"
   ]
  },
  {
   "cell_type": "markdown",
   "id": "15b4cf2e",
   "metadata": {},
   "source": []
  }
 ],
 "metadata": {
  "kernelspec": {
   "display_name": "Python 3 (ipykernel)",
   "language": "python",
   "name": "python3"
  },
  "language_info": {
   "codemirror_mode": {
    "name": "ipython",
    "version": 3
   },
   "file_extension": ".py",
   "mimetype": "text/x-python",
   "name": "python",
   "nbconvert_exporter": "python",
   "pygments_lexer": "ipython3",
   "version": "3.8.8"
  }
 },
 "nbformat": 4,
 "nbformat_minor": 5
}
